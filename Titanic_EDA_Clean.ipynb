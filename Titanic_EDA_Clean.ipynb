{
 "cells": [
  {
   "cell_type": "markdown",
   "id": "cdaee146",
   "metadata": {},
   "source": [
    "# 🧠 Titanic Dataset - Exploratory Data Analysis (EDA)\n",
    "This notebook performs exploratory data analysis on the Titanic dataset to uncover patterns, trends, and relationships using Python libraries like Pandas, Matplotlib, Seaborn, and Plotly.\n"
   ]
  },
  {
   "cell_type": "code",
   "execution_count": null,
   "id": "7eb42667",
   "metadata": {},
   "outputs": [],
   "source": [
    "import pandas as pd\n",
    "import matplotlib.pyplot as plt\n",
    "import seaborn as sns\n",
    "import plotly.express as px"
   ]
  },
  {
   "cell_type": "markdown",
   "id": "64054a7e",
   "metadata": {},
   "source": [
    "## 📥 Load the Titanic Sample Dataset"
   ]
  },
  {
   "cell_type": "code",
   "execution_count": null,
   "id": "875a4128",
   "metadata": {},
   "outputs": [],
   "source": [
    "df = pd.read_csv('titanic_sample.csv')\n",
    "df.head()"
   ]
  },
  {
   "cell_type": "markdown",
   "id": "7d0fd360",
   "metadata": {},
   "source": [
    "## 📊 Summary Statistics"
   ]
  },
  {
   "cell_type": "code",
   "execution_count": null,
   "id": "d650764f",
   "metadata": {},
   "outputs": [],
   "source": [
    "df.describe(include='all')"
   ]
  },
  {
   "cell_type": "markdown",
   "id": "de65fdfb",
   "metadata": {},
   "source": [
    "## ❗ Check for Missing Values"
   ]
  },
  {
   "cell_type": "code",
   "execution_count": null,
   "id": "b3afb64e",
   "metadata": {},
   "outputs": [],
   "source": [
    "df.isnull().sum()"
   ]
  },
  {
   "cell_type": "markdown",
   "id": "e7e15bbf",
   "metadata": {},
   "source": [
    "## 📈 Histograms of Numerical Features"
   ]
  },
  {
   "cell_type": "code",
   "execution_count": null,
   "id": "0ad808f6",
   "metadata": {},
   "outputs": [],
   "source": [
    "df.hist(figsize=(10, 6), edgecolor='black')\n",
    "plt.suptitle(\"Histograms of Numeric Features\")\n",
    "plt.show()"
   ]
  },
  {
   "cell_type": "markdown",
   "id": "1afe00ff",
   "metadata": {},
   "source": [
    "## 📦 Boxplot to Detect Outliers"
   ]
  },
  {
   "cell_type": "code",
   "execution_count": null,
   "id": "ecb95e98",
   "metadata": {},
   "outputs": [],
   "source": [
    "sns.boxplot(x='Pclass', y='Age', data=df)\n",
    "plt.title(\"Boxplot of Age by Passenger Class\")\n",
    "plt.show()"
   ]
  },
  {
   "cell_type": "markdown",
   "id": "4dbeb48a",
   "metadata": {},
   "source": [
    "## 🔗 Correlation Matrix"
   ]
  },
  {
   "cell_type": "code",
   "execution_count": null,
   "id": "d50d1e85",
   "metadata": {},
   "outputs": [],
   "source": [
    "sns.heatmap(df.corr(), annot=True, cmap='coolwarm')\n",
    "plt.title(\"Correlation Matrix\")\n",
    "plt.show()"
   ]
  },
  {
   "cell_type": "markdown",
   "id": "4c73e306",
   "metadata": {},
   "source": [
    "## 🌐 Interactive Age Distribution by Survival (Plotly)"
   ]
  },
  {
   "cell_type": "code",
   "execution_count": null,
   "id": "8184719b",
   "metadata": {},
   "outputs": [],
   "source": [
    "fig = px.histogram(df, x=\"Age\", color=\"Survived\", barmode=\"overlay\", title=\"Age Distribution by Survival\")\n",
    "fig.show()"
   ]
  },
  {
   "cell_type": "markdown",
   "id": "109f28b3",
   "metadata": {},
   "source": [
    "## ✅ Key Inferences"
   ]
  },
  {
   "cell_type": "code",
   "execution_count": null,
   "id": "1b9e2cb1",
   "metadata": {},
   "outputs": [],
   "source": [
    "print(\"- Passengers in 1st class had higher survival rates.\")\n",
    "print(\"- Females and younger passengers had better survival outcomes.\")\n",
    "print(\"- Higher fares were generally associated with higher class and survival.\")"
   ]
  }
 ],
 "metadata": {},
 "nbformat": 4,
 "nbformat_minor": 5
}